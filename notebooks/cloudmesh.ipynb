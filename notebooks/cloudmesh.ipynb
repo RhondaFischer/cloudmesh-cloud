{
 "cells": [
  {
   "cell_type": "code",
   "execution_count": 1,
   "metadata": {},
   "outputs": [
    {
     "data": {
      "text/html": [
       "<style>.container { width:100% !important; }</style>"
      ],
      "text/plain": [
       "<IPython.core.display.HTML object>"
      ]
     },
     "metadata": {},
     "output_type": "display_data"
    },
    {
     "name": "stdout",
     "output_type": "stream",
     "text": [
      "\n",
      "# ----------------------------------------------------------------------\n",
      "# Cloudmesh\n",
      "# ----------------------------------------------------------------------\n",
      "\n"
     ]
    }
   ],
   "source": [
    "from cloudmesh.cloud import Shell"
   ]
  },
  {
   "cell_type": "code",
   "execution_count": 2,
   "metadata": {},
   "outputs": [],
   "source": [
    "r = Shell.run(\"ls\")"
   ]
  },
  {
   "cell_type": "code",
   "execution_count": 3,
   "metadata": {},
   "outputs": [
    {
     "name": "stdout",
     "output_type": "stream",
     "text": [
      "cloudmesh.ipynb\n",
      "\n"
     ]
    }
   ],
   "source": [
    "print (r)"
   ]
  },
  {
   "cell_type": "code",
   "execution_count": 4,
   "metadata": {},
   "outputs": [],
   "source": [
    "r = Shell.cms(\"help\")"
   ]
  },
  {
   "cell_type": "code",
   "execution_count": 5,
   "metadata": {},
   "outputs": [
    {
     "name": "stdout",
     "output_type": "stream",
     "text": [
      "\n",
      "Documented commands (type help <topic>):\n",
      "========================================\n",
      "EOF       container  help       key       q         shell   stopwatch  vm      \n",
      "admin     data       image      man       quit      sleep   sys        workflow\n",
      "banner    default    info       open      register  source  var      \n",
      "clear     echo       init       pause     sec       ssh     vbox     \n",
      "commands  flavor     inventory  plugin    service   start   vcluster \n",
      "config    group      ip         provider  set       stop    version  \n",
      "\n",
      "Timer: 0.0089s (help)\n",
      "\n"
     ]
    }
   ],
   "source": [
    "print (r)"
   ]
  },
  {
   "cell_type": "code",
   "execution_count": 7,
   "metadata": {},
   "outputs": [],
   "source": [
    "r = Shell.cms(\"set cloud=chameleon\")"
   ]
  },
  {
   "cell_type": "code",
   "execution_count": 8,
   "metadata": {},
   "outputs": [],
   "source": [
    "r = Shell.cms(\"set refresh=True\")"
   ]
  },
  {
   "cell_type": "code",
   "execution_count": 9,
   "metadata": {},
   "outputs": [],
   "source": [
    "r = Shell.cms(\"flavor list\")"
   ]
  },
  {
   "cell_type": "code",
   "execution_count": 10,
   "metadata": {},
   "outputs": [
    {
     "name": "stdout",
     "output_type": "stream",
     "text": [
      "cloud chameleon\n",
      "+----------------+-------+-------+------+\n",
      "| Name           | VCPUS | RAM   | Disk |\n",
      "+----------------+-------+-------+------+\n",
      "| m1.tiny        | 1     | 512   | 1    |\n",
      "| m1.small       | 1     | 2048  | 20   |\n",
      "| m1.medium      | 2     | 4096  | 40   |\n",
      "| m1.large       | 4     | 8192  | 80   |\n",
      "| m1.xlarge      | 8     | 16384 | 160  |\n",
      "| storage.medium | 1     | 4096  | 2048 |\n",
      "| m1.xxlarge     | 8     | 32768 | 160  |\n",
      "| m1.xxxlarge    | 16    | 32768 | 160  |\n",
      "+----------------+-------+-------+------+\n",
      "Timer: 1.9617s (flavor list)\n",
      "\n"
     ]
    }
   ],
   "source": [
    "print (r)"
   ]
  }
 ],
 "metadata": {
  "kernelspec": {
   "display_name": "Python 3",
   "language": "python",
   "name": "python3"
  },
  "language_info": {
   "codemirror_mode": {
    "name": "ipython",
    "version": 3
   },
   "file_extension": ".py",
   "mimetype": "text/x-python",
   "name": "python",
   "nbconvert_exporter": "python",
   "pygments_lexer": "ipython3",
   "version": "3.7.4"
  }
 },
 "nbformat": 4,
 "nbformat_minor": 2
}
