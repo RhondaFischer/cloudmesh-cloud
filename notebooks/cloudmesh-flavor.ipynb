{
 "cells": [
  {
   "cell_type": "code",
   "execution_count": 1,
   "metadata": {},
   "outputs": [],
   "source": [
    "from cloudmesh.compute.vm.Provider import Provider"
   ]
  },
  {
   "cell_type": "code",
   "execution_count": 2,
   "metadata": {},
   "outputs": [],
   "source": [
    "provider = Provider(name=\"chameleon\")"
   ]
  },
  {
   "cell_type": "code",
   "execution_count": 3,
   "metadata": {},
   "outputs": [],
   "source": [
    "flavors = provider.flavors()"
   ]
  },
  {
   "cell_type": "code",
   "execution_count": 4,
   "metadata": {},
   "outputs": [
    {
     "data": {
      "text/plain": [
       "'m1.tiny'"
      ]
     },
     "execution_count": 4,
     "metadata": {},
     "output_type": "execute_result"
    }
   ],
   "source": [
    "flavors[0]['name']"
   ]
  },
  {
   "cell_type": "code",
   "execution_count": 5,
   "metadata": {},
   "outputs": [
    {
     "name": "stdout",
     "output_type": "stream",
     "text": [
      "+----------------+-------+-------+------+\n",
      "| Name           | VCPUS | RAM   | Disk |\n",
      "+----------------+-------+-------+------+\n",
      "| m1.tiny        | 1     | 512   | 1    |\n",
      "| m1.small       | 1     | 2048  | 20   |\n",
      "| m1.medium      | 2     | 4096  | 40   |\n",
      "| m1.large       | 4     | 8192  | 80   |\n",
      "| m1.xlarge      | 8     | 16384 | 160  |\n",
      "| storage.medium | 1     | 4096  | 2048 |\n",
      "| m1.xxlarge     | 8     | 32768 | 160  |\n",
      "| m1.xxxlarge    | 16    | 32768 | 160  |\n",
      "+----------------+-------+-------+------+\n"
     ]
    }
   ],
   "source": [
    "provider.Print(flavors)"
   ]
  }
 ],
 "metadata": {
  "kernelspec": {
   "display_name": "Python 3",
   "language": "python",
   "name": "python3"
  },
  "language_info": {
   "codemirror_mode": {
    "name": "ipython",
    "version": 3
   },
   "file_extension": ".py",
   "mimetype": "text/x-python",
   "name": "python",
   "nbconvert_exporter": "python",
   "pygments_lexer": "ipython3",
   "version": "3.7.4"
  }
 },
 "nbformat": 4,
 "nbformat_minor": 2
}
